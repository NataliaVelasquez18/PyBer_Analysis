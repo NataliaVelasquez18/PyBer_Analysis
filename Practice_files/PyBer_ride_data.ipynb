{
 "cells": [
  {
   "cell_type": "code",
   "execution_count": null,
   "metadata": {},
   "outputs": [],
   "source": [
    "#Now that you're up to speed on all four types of charts (line, bar, scatter, and pie), you're eager to dig into the data. One of the questions V. Isualize is famous for asking during these presentations is about the exploratory part of the analytical process. In other words, when you have a new dataset, what is your process in determining relationships between variables in the data? Or what type of data do you have to work with? And are there any outliers or patterns in the data?\n",
    "#This critical, exploratory data analytic step can save roughly 15–50% of your time on a project because it provides a targeted plan for how to clean, sort, and create smaller datasets. It's not something a savvy analyst will skip. \n",
    "#During data analysis, one best practice is to visualize the data once it's in a DataFrame to determine if it needs to be cleaned, sorted, or modified before it's analyzed. This can also prevent the scenario of being knee deep in the analysis and having to go back to the beginning to change a data type or create a feature. One way to do that is to plot data directly from a DataFrame or Data Series.\n"
   ]
  }
 ],
 "metadata": {
  "kernelspec": {
   "display_name": "PythonData",
   "language": "python",
   "name": "pythondata"
  },
  "language_info": {
   "codemirror_mode": {
    "name": "ipython",
    "version": 3
   },
   "file_extension": ".py",
   "mimetype": "text/x-python",
   "name": "python",
   "nbconvert_exporter": "python",
   "pygments_lexer": "ipython3",
   "version": "3.7.9"
  }
 },
 "nbformat": 4,
 "nbformat_minor": 4
}
